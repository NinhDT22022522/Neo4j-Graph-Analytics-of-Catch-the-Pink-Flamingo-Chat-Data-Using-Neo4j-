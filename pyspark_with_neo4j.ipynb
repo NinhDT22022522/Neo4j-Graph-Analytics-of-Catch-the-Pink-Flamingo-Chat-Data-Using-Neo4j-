{
 "cells": [
  {
   "cell_type": "code",
   "execution_count": 38,
   "metadata": {},
   "outputs": [],
   "source": [
    "from pyspark.sql import SparkSession"
   ]
  },
  {
   "cell_type": "markdown",
   "metadata": {},
   "source": [
    "## Check_connection"
   ]
  },
  {
   "cell_type": "code",
   "execution_count": 40,
   "metadata": {},
   "outputs": [
    {
     "name": "stdout",
     "output_type": "stream",
     "text": [
      "SparkSession created successfully\n",
      "Neo4j connection established successfully\n"
     ]
    },
    {
     "name": "stderr",
     "output_type": "stream",
     "text": [
      "[Stage 0:>                                                          (0 + 1) / 1]\r"
     ]
    },
    {
     "name": "stdout",
     "output_type": "stream",
     "text": [
      "+---+\n",
      "|  n|\n",
      "+---+\n",
      "+---+\n",
      "\n",
      "Data read from Neo4j successfully\n"
     ]
    },
    {
     "name": "stderr",
     "output_type": "stream",
     "text": [
      "                                                                                \r"
     ]
    }
   ],
   "source": [
    "# Test connection\n",
    "from pyspark.sql import SparkSession\n",
    "from pyspark.sql.functions import col\n",
    "\n",
    "# Create a SparkSession\n",
    "spark = SparkSession.builder \\\n",
    "    .appName(\"Neo4jPySparkApp\") \\\n",
    "    .config(\"spark.jars\", \"/home/son/Downloads/neo4j-connector-apache-spark_2.12-5.3.0_for_spark_3.jar\") \\\n",
    "    .getOrCreate()\n",
    "\n",
    "# Define Neo4j connection details\n",
    "uri = \"bolt://44.203.229.212:7687\"\n",
    "username = \"neo4j\"\n",
    "password = \"thickness-transfer-fiber\"\n",
    "\n",
    "# Check if SparkSession is created\n",
    "if spark:\n",
    "    print(\"SparkSession created successfully\")\n",
    "\n",
    "# Check if Neo4j connection is established\n",
    "try:\n",
    "    df = spark.read.format(\"org.neo4j.spark.DataSource\") \\\n",
    "        .option(\"url\", uri) \\\n",
    "        .option(\"authentication.basic.username\", username) \\\n",
    "        .option(\"authentication.basic.password\", password) \\\n",
    "        .option(\"query\", \"CREATE (n:Person {name: $name, age: $age})\") \\\n",
    "        .load()\n",
    "    print(\"Neo4j connection established successfully\")\n",
    "except Exception as e:\n",
    "    print(f\"Error connecting to Neo4j: {str(e)}\")\n",
    "\n",
    "# Check if data can be read from Neo4j\n",
    "try:\n",
    "    df = spark.read.format(\"org.neo4j.spark.DataSource\") \\\n",
    "        .option(\"url\", uri) \\\n",
    "        .option(\"authentication.basic.username\", username) \\\n",
    "        .option(\"authentication.basic.password\", password) \\\n",
    "        .option(\"query\", \"MATCH (n) RETURN n\") \\\n",
    "        .load()\n",
    "    df.show()\n",
    "    print(\"Data read from Neo4j successfully\")\n",
    "except Exception as e:\n",
    "    print(f\"Error reading data from Neo4j: {str(e)}\")\n",
    "\n",
    "# Stop SparkSession\n",
    "spark.stop()\n"
   ]
  },
  {
   "cell_type": "markdown",
   "metadata": {},
   "source": [
    "## Set up Spark and Connect with neo4j by neo4j-connector"
   ]
  },
  {
   "cell_type": "code",
   "execution_count": 4,
   "metadata": {},
   "outputs": [],
   "source": [
    "# Define Neo4j connection details\n",
    "uri = \"bolt://44.203.229.212:7687\"\n",
    "username = \"neo4j\"\n",
    "password = \"thickness-transfer-fiber\""
   ]
  },
  {
   "cell_type": "code",
   "execution_count": 5,
   "metadata": {},
   "outputs": [
    {
     "name": "stderr",
     "output_type": "stream",
     "text": [
      "24/05/30 17:29:28 WARN Utils: Your hostname, thaisonatk resolves to a loopback address: 127.0.1.1; using 192.168.247.128 instead (on interface ens33)\n",
      "24/05/30 17:29:28 WARN Utils: Set SPARK_LOCAL_IP if you need to bind to another address\n",
      "24/05/30 17:29:28 WARN NativeCodeLoader: Unable to load native-hadoop library for your platform... using builtin-java classes where applicable\n",
      "Setting default log level to \"WARN\".\n",
      "To adjust logging level use sc.setLogLevel(newLevel). For SparkR, use setLogLevel(newLevel).\n"
     ]
    }
   ],
   "source": [
    "# Create a SparkSession\n",
    "spark = SparkSession.builder \\\n",
    "    .appName(\"Neo4jPySparkApp\") \\\n",
    "    .config(\"spark.jars\", \"/home/son/Downloads/neo4j-connector-apache-spark_2.12-5.3.0_for_spark_3.jar\") \\\n",
    "    .getOrCreate()\n",
    "\n"
   ]
  },
  {
   "cell_type": "markdown",
   "metadata": {},
   "source": [
    "## Coding funtion read and write to neo4j database by Pyspark"
   ]
  },
  {
   "cell_type": "code",
   "execution_count": 52,
   "metadata": {},
   "outputs": [],
   "source": [
    "# Function to execute a Cypher query via Spark\n",
    "def execute_write_cypher_query(query):\n",
    "    try :\n",
    "        df = spark.createDataFrame([(\"dummy\",)], [\"col\"])  # Create a dummy DataFrame\n",
    "        df.write.format(\"org.neo4j.spark.DataSource\") \\\n",
    "            .option(\"url\", uri) \\\n",
    "            .option(\"authentication.basic.username\", username) \\\n",
    "            .option(\"authentication.basic.password\", password) \\\n",
    "            .option(\"query\", query) \\\n",
    "            .mode(\"overwrite\") \\\n",
    "            .save()\n",
    "        df.show()\n",
    "    except Exception as e:\n",
    "        print(f\"Error executing query: {e}\")"
   ]
  },
  {
   "cell_type": "code",
   "execution_count": 66,
   "metadata": {},
   "outputs": [],
   "source": [
    "def execute_read_cypher_query(query):\n",
    "    try:\n",
    "        result_df = spark.read.format(\"org.neo4j.spark.DataSource\") \\\n",
    "            .option(\"url\", uri) \\\n",
    "            .option(\"authentication.basic.username\", username) \\\n",
    "            .option(\"authentication.basic.password\", password) \\\n",
    "            .option(\"query\", query) \\\n",
    "            .load()\n",
    "        result_df.limit(10).show()\n",
    "    except Exception as e:\n",
    "        print(f\"Error executing query: {e}\")"
   ]
  },
  {
   "cell_type": "markdown",
   "metadata": {},
   "source": [
    "## Initialize data with csv file from our github"
   ]
  },
  {
   "cell_type": "code",
   "execution_count": 45,
   "metadata": {},
   "outputs": [],
   "source": [
    "# Because neo4j connector with spark does not support CONSTRAINT query so I run it on server\n",
    "query = \"\"\"\n",
    "CREATE CONSTRAINT FOR (u:User) REQUIRE u.id IS UNIQUE\n",
    "CREATE CONSTRAINT FOR (t:Team) REQUIRE t.id IS UNIQUE\n",
    "CREATE CONSTRAINT FOR (c:TeamChatSession) REQUIRE c.id IS UNIQUE\n",
    "CREATE CONSTRAINT FOR (i:ChatItem) REQUIRE i.id IS UNIQUE\"\"\""
   ]
  },
  {
   "cell_type": "code",
   "execution_count": 9,
   "metadata": {},
   "outputs": [
    {
     "name": "stderr",
     "output_type": "stream",
     "text": [
      "                                                                                \r"
     ]
    },
    {
     "name": "stdout",
     "output_type": "stream",
     "text": [
      "+-----+\n",
      "|  col|\n",
      "+-----+\n",
      "|dummy|\n",
      "+-----+\n",
      "\n"
     ]
    }
   ],
   "source": [
    "# Load data from chat_create_team_chat.csv\n",
    "\n",
    "chat_create_team_chat_queries = \"\"\"LOAD CSV FROM \"https://raw.githubusercontent.com/NinhDT22022522/Neo4j-Graph-Analytics-of-Catch-the-Pink-Flamingo-Chat-Data-Using-Neo4j-/main/data/chat_create_team_chat.csv\" AS row\n",
    "MERGE (u:User {id: toInteger(row[0])})\n",
    "MERGE (t:Team {id: toInteger(row[1])})\n",
    "MERGE (c:TeamChatSession {id: toInteger(row[2])})\n",
    "MERGE (u)-[:CreatesSession {timeStamp: row[3]}]->(c)\n",
    "MERGE (c)-[:OwnedBy {timeStamp: row[3]}]->(t)\"\"\"\n",
    "\n",
    "execute_write_cypher_query(chat_create_team_chat_queries)"
   ]
  },
  {
   "cell_type": "code",
   "execution_count": 10,
   "metadata": {},
   "outputs": [
    {
     "name": "stderr",
     "output_type": "stream",
     "text": [
      "                                                                                \r"
     ]
    },
    {
     "name": "stdout",
     "output_type": "stream",
     "text": [
      "+-----+\n",
      "|  col|\n",
      "+-----+\n",
      "|dummy|\n",
      "+-----+\n",
      "\n"
     ]
    }
   ],
   "source": [
    "# Load data from chat_item_team_chat.csv\n",
    "\n",
    "chat_item_team_chat_query = \"\"\"LOAD CSV FROM \"https://raw.githubusercontent.com/NinhDT22022522/Neo4j-Graph-Analytics-of-Catch-the-Pink-Flamingo-Chat-Data-Using-Neo4j-/main/data/chat_item_team_chat.csv\" AS row\n",
    "MERGE (u:User {id: toInteger(row[0])})\n",
    "MERGE (t:TeamChatSession {id: toInteger(row[1])})\n",
    "MERGE (c:ChatItem {id: toInteger(row[2])})\n",
    "MERGE (u)-[:CreatesChat {timeStamp: row[3]}]->(c)\n",
    "MERGE (c)-[:PartOf {timeStamp: row[3]}]->(t)\"\"\"\n",
    "\n",
    "execute_write_cypher_query(chat_item_team_chat_query)"
   ]
  },
  {
   "cell_type": "code",
   "execution_count": 11,
   "metadata": {},
   "outputs": [
    {
     "name": "stderr",
     "output_type": "stream",
     "text": [
      "                                                                                \r"
     ]
    },
    {
     "name": "stdout",
     "output_type": "stream",
     "text": [
      "+-----+\n",
      "|  col|\n",
      "+-----+\n",
      "|dummy|\n",
      "+-----+\n",
      "\n"
     ]
    }
   ],
   "source": [
    "# load data from chat_join_team_chat.csv\n",
    "\n",
    "chat_join_team_chat_query = \"\"\"LOAD CSV FROM \"https://raw.githubusercontent.com/NinhDT22022522/Neo4j-Graph-Analytics-of-Catch-the-Pink-Flamingo-Chat-Data-Using-Neo4j-/main/data/chat_join_team_chat.csv\" AS row\n",
    "MERGE (u:User {id: toInteger(row[0])})\n",
    "MERGE (c:TeamChatSession {id: toInteger(row[1])})\n",
    "MERGE (u)-[:Joins {timeStamp: row[2]}]->(c)\"\"\"\n",
    "\n",
    "execute_write_cypher_query(chat_join_team_chat_query)"
   ]
  },
  {
   "cell_type": "code",
   "execution_count": 12,
   "metadata": {},
   "outputs": [
    {
     "name": "stderr",
     "output_type": "stream",
     "text": [
      "                                                                                \r"
     ]
    },
    {
     "name": "stdout",
     "output_type": "stream",
     "text": [
      "+-----+\n",
      "|  col|\n",
      "+-----+\n",
      "|dummy|\n",
      "+-----+\n",
      "\n"
     ]
    }
   ],
   "source": [
    "# Load data from chat_leave_team_chat.csv\n",
    "chat_leave_team_chat_query = \"\"\"LOAD CSV FROM \"https://raw.githubusercontent.com/NinhDT22022522/Neo4j-Graph-Analytics-of-Catch-the-Pink-Flamingo-Chat-Data-Using-Neo4j-/main/data/chat_leave_team_chat.csv\" AS row\n",
    "MERGE (u:User {id: toInteger(row[0])})\n",
    "MERGE (c:TeamChatSession {id: toInteger(row[1])})\n",
    "MERGE (u)-[:Leaves {timeStamp: row[2]}]->(c)\"\"\"\n",
    "\n",
    "execute_write_cypher_query(chat_leave_team_chat_query)"
   ]
  },
  {
   "cell_type": "code",
   "execution_count": 13,
   "metadata": {},
   "outputs": [
    {
     "name": "stderr",
     "output_type": "stream",
     "text": [
      "                                                                                \r"
     ]
    },
    {
     "name": "stdout",
     "output_type": "stream",
     "text": [
      "+-----+\n",
      "|  col|\n",
      "+-----+\n",
      "|dummy|\n",
      "+-----+\n",
      "\n"
     ]
    }
   ],
   "source": [
    "# Load data from chat_mention_team_chat.csv\n",
    "chat_mention_team_chat_query = \"\"\"LOAD CSV FROM \"https://raw.githubusercontent.com/NinhDT22022522/Neo4j-Graph-Analytics-of-Catch-the-Pink-Flamingo-Chat-Data-Using-Neo4j-/main/data/chat_mention_team_chat.csv\" AS row\n",
    "MERGE (c:ChatItem {id: toInteger(row[0])})\n",
    "MERGE (u:User {id: toInteger(row[1])})\n",
    "MERGE (c)-[:Mentioned {timeStamp: row[2]}]->(u)\"\"\"\n",
    "\n",
    "execute_write_cypher_query(chat_mention_team_chat_query)"
   ]
  },
  {
   "cell_type": "code",
   "execution_count": 14,
   "metadata": {},
   "outputs": [
    {
     "name": "stderr",
     "output_type": "stream",
     "text": [
      "                                                                                \r"
     ]
    },
    {
     "name": "stdout",
     "output_type": "stream",
     "text": [
      "+-----+\n",
      "|  col|\n",
      "+-----+\n",
      "|dummy|\n",
      "+-----+\n",
      "\n"
     ]
    }
   ],
   "source": [
    "# Load data from chat_respond_team_chat.csv\n",
    "chat_respond_team_chat_query = \"\"\"LOAD CSV FROM \"https://raw.githubusercontent.com/NinhDT22022522/Neo4j-Graph-Analytics-of-Catch-the-Pink-Flamingo-Chat-Data-Using-Neo4j-/main/data/chat_respond_team_chat.csv\" AS row\n",
    "MERGE (c1:ChatItem {id: toInteger(row[0])})\n",
    "MERGE (c2:ChatItem {id: toInteger(row[1])})\n",
    "MERGE (c1)-[:ResponseTo {timeStamp: row[2]}]->(c2)\"\"\"\n",
    "\n",
    "execute_write_cypher_query(chat_respond_team_chat_query)"
   ]
  },
  {
   "cell_type": "markdown",
   "metadata": {},
   "source": [
    "## Check Establish (45463 nodes and 118502 egdes)"
   ]
  },
  {
   "cell_type": "code",
   "execution_count": 58,
   "metadata": {},
   "outputs": [
    {
     "name": "stderr",
     "output_type": "stream",
     "text": [
      "[Stage 33:>                                                         (0 + 1) / 1]\r"
     ]
    },
    {
     "name": "stdout",
     "output_type": "stream",
     "text": [
      "+------------+\n",
      "|NumberOfNode|\n",
      "+------------+\n",
      "|       45463|\n",
      "+------------+\n",
      "\n"
     ]
    },
    {
     "name": "stderr",
     "output_type": "stream",
     "text": [
      "                                                                                \r"
     ]
    }
   ],
   "source": [
    "# Check node\n",
    "check_node_query = \"MATCH (n) RETURN COUNT(n) AS NumberOfNode\"\n",
    "\n",
    "execute_read_cypher_query(check_node_query)"
   ]
  },
  {
   "cell_type": "code",
   "execution_count": 19,
   "metadata": {},
   "outputs": [
    {
     "name": "stderr",
     "output_type": "stream",
     "text": [
      "[Stage 20:>                                                         (0 + 1) / 1]\r"
     ]
    },
    {
     "name": "stdout",
     "output_type": "stream",
     "text": [
      "+-------------+\n",
      "|numberOfEdges|\n",
      "+-------------+\n",
      "|       118502|\n",
      "+-------------+\n",
      "\n"
     ]
    },
    {
     "name": "stderr",
     "output_type": "stream",
     "text": [
      "                                                                                \r"
     ]
    }
   ],
   "source": [
    "# Check edge\n",
    "check_edge_query = \"MATCH()-[r]->() RETURN COUNT(r) AS numberOfEdges\"\n",
    "\n",
    "execute_read_cypher_query(check_edge_query)"
   ]
  },
  {
   "cell_type": "markdown",
   "metadata": {},
   "source": [
    "## Run Query"
   ]
  },
  {
   "cell_type": "code",
   "execution_count": 37,
   "metadata": {},
   "outputs": [
    {
     "name": "stderr",
     "output_type": "stream",
     "text": [
      "[Stage 22:>                                                         (0 + 1) / 1]\r"
     ]
    },
    {
     "name": "stdout",
     "output_type": "stream",
     "text": [
      "+--------------------+------------------+\n",
      "|        longestChain|longestChainLength|\n",
      "+--------------------+------------------+\n",
      "|[{35255, [ChatIte...|                 9|\n",
      "+--------------------+------------------+\n",
      "\n"
     ]
    },
    {
     "name": "stderr",
     "output_type": "stream",
     "text": [
      "                                                                                \r"
     ]
    }
   ],
   "source": [
    "#Q1-a\n",
    "\n",
    "query_Q1_a = \"\"\"MATCH p=(start:ChatItem)-[:ResponseTo*]->(end:ChatItem)\n",
    "WITH p, length(p) AS length\n",
    "ORDER BY length DESC\n",
    "WITH nodes(p) AS longestChain, length AS longestChainLength\n",
    "LIMIT 1\n",
    "RETURN longestChain, longestChainLength\n",
    "\"\"\"\n",
    "\n",
    "execute_read_cypher_query(query=query_Q1_a)"
   ]
  },
  {
   "cell_type": "code",
   "execution_count": 39,
   "metadata": {},
   "outputs": [
    {
     "name": "stderr",
     "output_type": "stream",
     "text": [
      "[Stage 23:>                                                         (0 + 1) / 1]\r"
     ]
    },
    {
     "name": "stdout",
     "output_type": "stream",
     "text": [
      "+-------------+\n",
      "|numberOfUsers|\n",
      "+-------------+\n",
      "|            5|\n",
      "+-------------+\n",
      "\n"
     ]
    },
    {
     "name": "stderr",
     "output_type": "stream",
     "text": [
      "                                                                                \r"
     ]
    }
   ],
   "source": [
    "#Q1-b\n",
    "\n",
    "query_Q1_b = \"\"\"MATCH p=(start:ChatItem)-[:ResponseTo*]->(end:ChatItem)\n",
    "WITH length(p) AS longestChainLength\n",
    "ORDER BY longestChainLength DESC\n",
    "LIMIT 1\n",
    "\n",
    "// Find all paths with this length\n",
    "MATCH p=(start:ChatItem)-[:ResponseTo*]->(end:ChatItem)\n",
    "WHERE length(p) = longestChainLength\n",
    "WITH p\n",
    "\n",
    "// Extract users involved in these paths\n",
    "MATCH (u:User)-[:CreatesChat]->(ci:ChatItem)\n",
    "WHERE ci IN nodes(p)\n",
    "RETURN count(distinct u) AS numberOfUsers\"\"\"\n",
    "\n",
    "execute_read_cypher_query(query_Q1_b)"
   ]
  },
  {
   "cell_type": "code",
   "execution_count": 67,
   "metadata": {},
   "outputs": [
    {
     "name": "stderr",
     "output_type": "stream",
     "text": [
      "[Stage 36:>                                                         (0 + 1) / 1]\r"
     ]
    },
    {
     "name": "stdout",
     "output_type": "stream",
     "text": [
      "+------+---------+\n",
      "|userId|chatCount|\n",
      "+------+---------+\n",
      "|   394|      115|\n",
      "|  2067|      111|\n",
      "|  1087|      109|\n",
      "|   209|      109|\n",
      "|   554|      107|\n",
      "|  1627|      105|\n",
      "|   516|      105|\n",
      "|   999|      105|\n",
      "|   668|      104|\n",
      "|   461|      104|\n",
      "+------+---------+\n",
      "\n"
     ]
    },
    {
     "name": "stderr",
     "output_type": "stream",
     "text": [
      "                                                                                \r"
     ]
    }
   ],
   "source": [
    "#Q2-a\n",
    "\n",
    "query_Q2_a = \"\"\"MATCH (u:User)-[:CreatesChat]->(c:ChatItem)\n",
    "RETURN u.id AS userId, count(c) AS chatCount\n",
    "ORDER BY chatCount DESC\n",
    "LIMIT 10\n",
    "\"\"\"\n",
    "\n",
    "execute_read_cypher_query(query_Q2_a)"
   ]
  },
  {
   "cell_type": "code",
   "execution_count": 68,
   "metadata": {},
   "outputs": [
    {
     "name": "stderr",
     "output_type": "stream",
     "text": [
      "[Stage 37:>                                                         (0 + 1) / 1]\r"
     ]
    },
    {
     "name": "stdout",
     "output_type": "stream",
     "text": [
      "+------+---------+\n",
      "|teamId|chatCount|\n",
      "+------+---------+\n",
      "|    82|     1324|\n",
      "|   185|     1036|\n",
      "|   112|      957|\n",
      "|    18|      844|\n",
      "|   194|      836|\n",
      "|   129|      814|\n",
      "|    52|      788|\n",
      "|   136|      783|\n",
      "|   146|      746|\n",
      "|    81|      736|\n",
      "+------+---------+\n",
      "\n"
     ]
    },
    {
     "name": "stderr",
     "output_type": "stream",
     "text": [
      "                                                                                \r"
     ]
    }
   ],
   "source": [
    "#Q2-b\n",
    "\n",
    "query_Q2_b = \"\"\"MATCH (ci:ChatItem)-[:PartOf]->(tcs:TeamChatSession)-[:OwnedBy]->(t:Team)\n",
    "RETURN t.id AS teamId, count(ci) AS chatCount\n",
    "ORDER BY chatCount DESC\n",
    "LIMIT10\n",
    "\"\"\"\n",
    "\n",
    "execute_read_cypher_query(query_Q2_b)"
   ]
  },
  {
   "cell_type": "code",
   "execution_count": 46,
   "metadata": {},
   "outputs": [
    {
     "name": "stderr",
     "output_type": "stream",
     "text": [
      "[Stage 27:>                                                         (0 + 1) / 1]\r"
     ]
    },
    {
     "name": "stdout",
     "output_type": "stream",
     "text": [
      "+----+----+\n",
      "|User|Team|\n",
      "+----+----+\n",
      "| 999|  52|\n",
      "+----+----+\n",
      "\n"
     ]
    },
    {
     "name": "stderr",
     "output_type": "stream",
     "text": [
      "                                                                                \r"
     ]
    }
   ],
   "source": [
    "#Q2-c\n",
    "\n",
    "query_Q2_c = \"\"\"// Step 1: Identify top 10 chattiest users\n",
    "WITH [394, 2067, 1087, 209, 554, 1627, 516, 999, 668, 461] AS topChattiestUsers\n",
    "\n",
    "// Step 2: Identify top 10 chattiest teams\n",
    "WITH topChattiestUsers, [82, 185, 112, 18, 194, 129, 52, 136, 146, 81] AS topChattiestTeams\n",
    "\n",
    "// Step 3: Find users who belong to the top chattiest teams\n",
    "MATCH (u:User)-[:CreatesChat]->(:ChatItem)-[:PartOf]->(:TeamChatSession)-[:OwnedBy]->(t:Team)\n",
    "WHERE u.id IN topChattiestUsers\n",
    "AND t.id IN topChattiestTeams\n",
    "RETURN DISTINCT u.id AS User, t.id AS Team\"\"\"\n",
    "\n",
    "execute_read_cypher_query(query_Q2_c)"
   ]
  },
  {
   "cell_type": "code",
   "execution_count": 54,
   "metadata": {},
   "outputs": [
    {
     "name": "stderr",
     "output_type": "stream",
     "text": [
      "                                                                                \r"
     ]
    },
    {
     "name": "stdout",
     "output_type": "stream",
     "text": [
      "+-----+\n",
      "|  col|\n",
      "+-----+\n",
      "|dummy|\n",
      "+-----+\n",
      "\n"
     ]
    }
   ],
   "source": [
    "#Q3-a\n",
    "\n",
    "query_Q3_a = \"\"\"MATCH (u1:User)-[:CreatesChat]->(:ChatItem)-[:Mentioned]->(u2:User)\n",
    "CREATE (u1)-[:InteractsWith]->(u2)\n",
    "UNION\n",
    "MATCH (u1:User)-[:CreatesChat]->(:ChatItem)-[:ResponseTo]->(:ChatItem)<-[:CreatesChat]-(u2:User)\n",
    "CREATE (u1)-[:InteractsWith]->(u2)\n",
    "UNION\n",
    "MATCH (u:User)-[r:InteractsWith]->(u)\n",
    "DELETE r;\n",
    "\"\"\"\n",
    "execute_write_cypher_query(query_Q3_a)"
   ]
  },
  {
   "cell_type": "code",
   "execution_count": 55,
   "metadata": {},
   "outputs": [
    {
     "name": "stderr",
     "output_type": "stream",
     "text": [
      "[Stage 31:>                                                         (0 + 1) / 1]\r"
     ]
    },
    {
     "name": "stdout",
     "output_type": "stream",
     "text": [
      "+------+--------------------+---+\n",
      "|UserID|          Neighbours|  k|\n",
      "+------+--------------------+---+\n",
      "|   394|[2011, 1012, 1782...|  4|\n",
      "|  2067|[209, 63, 516, 12...|  6|\n",
      "|  1087|[1311, 929, 426, ...|  6|\n",
      "|   209|[2067, 516, 1672,...|  5|\n",
      "|   554|[1687, 2018, 1959...|  5|\n",
      "|  1627|[2067, 209, 516, ...|  6|\n",
      "|   516|[1627, 63, 2067, ...|  6|\n",
      "|   999|[1554, 1606, 1839...|  8|\n",
      "|   668|    [698, 2034, 648]|  3|\n",
      "|   461|   [1675, 1482, 482]|  3|\n",
      "+------+--------------------+---+\n",
      "\n"
     ]
    },
    {
     "name": "stderr",
     "output_type": "stream",
     "text": [
      "                                                                                \r"
     ]
    }
   ],
   "source": [
    "#Q3-b\n",
    "\n",
    "query_Q3_b = \"\"\"MATCH (u:User)-[c:CreatesChat]->()\n",
    "WITH u, COUNT(c) as Chats\n",
    "ORDER BY Chats DESC LIMIT 10 WITH [u] as ChattiestUsers\n",
    "//Getting the neighbours of all Users and the count\n",
    "MATCH (u1:User)-[:InteractsWith]->(u2:User)\n",
    "WHERE u1 in ChattiestUsers\n",
    "WITH u1.id AS UserID, COLLECT(DISTINCT u2.id) AS Neighbours RETURN UserID, Neighbours, SIZE(Neighbours) AS k\"\"\"\n",
    "\n",
    "execute_read_cypher_query(query_Q3_b)"
   ]
  },
  {
   "cell_type": "code",
   "execution_count": 56,
   "metadata": {},
   "outputs": [
    {
     "name": "stderr",
     "output_type": "stream",
     "text": [
      "[Stage 32:>                                                         (0 + 1) / 1]\r"
     ]
    },
    {
     "name": "stdout",
     "output_type": "stream",
     "text": [
      "+------+---+-----+---------------------+\n",
      "|UserID|NUM|DENUM|ClusteringCoefficient|\n",
      "+------+---+-----+---------------------+\n",
      "|   668|  6|    6|                  1.0|\n",
      "|   209| 20|   20|                  1.0|\n",
      "|   999| 53|   56|   0.9464285714285714|\n",
      "|   516| 28|   30|   0.9333333333333333|\n",
      "|  1627| 28|   30|   0.9333333333333333|\n",
      "|  2067| 28|   30|   0.9333333333333333|\n",
      "|   461|  5|    6|   0.8333333333333334|\n",
      "|   554| 16|   20|                  0.8|\n",
      "|   394|  9|   12|                 0.75|\n",
      "|  1087| 22|   30|   0.7333333333333333|\n",
      "+------+---+-----+---------------------+\n",
      "\n"
     ]
    },
    {
     "name": "stderr",
     "output_type": "stream",
     "text": [
      "                                                                                \r"
     ]
    }
   ],
   "source": [
    "#Q3-c\n",
    "\n",
    "query_Q3_c = \"\"\"// Getting TOP 10 Chattiest Users\n",
    "MATCH (u:User)-[c:CreatesChat]->()\n",
    "WITH u, COUNT(c) AS Chats\n",
    "ORDER BY Chats DESC\n",
    "LIMIT 10\n",
    "WITH COLLECT(u) AS ChattiestUsers\n",
    "\n",
    "// Getting the neighbours of TOP 10 Users and the count\n",
    "MATCH (u1:User)-[:InteractsWith]->(u2:User)\n",
    "WHERE u1 IN ChattiestUsers\n",
    "WITH u1.id AS UserID, COLLECT(DISTINCT u2.id) AS Neighbours, SIZE(COLLECT(DISTINCT u2.id)) AS k\n",
    "\n",
    "// Find Intersecting Users\n",
    "MATCH (u1:User)-[:InteractsWith]->(u2:User)\n",
    "// Such that both belong in Neighbours list\n",
    "WHERE u1.id IN Neighbours AND u2.id IN Neighbours\n",
    "// For every valid combination of a User and its two neighbours,\n",
    "// Value is 1 if neighbours have interacted at least once, k is no. of Neighbours\n",
    "WITH DISTINCT UserID, u1.id AS N1, u2.id AS N2, CASE WHEN (u1)-[:InteractsWith]->(u2) THEN 1 ELSE 0 END AS VALUE, k\n",
    "WITH UserID, SUM(VALUE) AS NUM, k, k*(k-1) AS DENUM\n",
    "RETURN UserID, NUM, DENUM, NUM/(DENUM*1.0) AS ClusteringCoefficient\n",
    "ORDER BY ClusteringCoefficient DESC\"\"\"\n",
    "\n",
    "execute_read_cypher_query(query_Q3_c)"
   ]
  },
  {
   "cell_type": "markdown",
   "metadata": {},
   "source": [
    "## Conclusion  \n",
    "Running neo4j and Pyspark combined will be faster than running neo4j normally  \n",
    "It takes me 150 seconds to set up data with neo4j and only 60 seconds if I run the combination"
   ]
  },
  {
   "cell_type": "markdown",
   "metadata": {},
   "source": []
  }
 ],
 "metadata": {
  "kernelspec": {
   "display_name": "Python 3",
   "language": "python",
   "name": "python3"
  },
  "language_info": {
   "codemirror_mode": {
    "name": "ipython",
    "version": 3
   },
   "file_extension": ".py",
   "mimetype": "text/x-python",
   "name": "python",
   "nbconvert_exporter": "python",
   "pygments_lexer": "ipython3",
   "version": "3.10.12"
  }
 },
 "nbformat": 4,
 "nbformat_minor": 2
}
